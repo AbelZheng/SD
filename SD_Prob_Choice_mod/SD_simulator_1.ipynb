{
 "cells": [
  {
   "cell_type": "code",
   "execution_count": 1,
   "metadata": {},
   "outputs": [],
   "source": [
    "# initiation 11/12/2023\n",
    "\n",
    "import arviz as az\n",
    "import matplotlib.pyplot as plt\n",
    "import numpy as np\n",
    "import pandas as pd\n",
    "import seaborn as sns\n",
    "import constrNMPy\n",
    "import os \n",
    "\n",
    "from matplotlib import gridspec\n",
    "from scipy import sparse, special, stats\n",
    "\n",
    "%config InlineBackend.figure_format = 'retina'\n",
    "az.style.use('arviz-white')"
   ]
  },
  {
   "cell_type": "markdown",
   "metadata": {},
   "source": [
    "# Simulating A Whole Block's Decision Process"
   ]
  },
  {
   "cell_type": "markdown",
   "metadata": {},
   "source": [
    "## 1. Setting the Stimuli\n",
    "\n",
    "For convenience, we will use the same stimuli in a participant's certain block.\n",
    "\n",
    "We can use this subject's perceptual performance to simulate the decision process.\n"
   ]
  },
  {
   "cell_type": "code",
   "execution_count": 2,
   "metadata": {},
   "outputs": [
    {
     "data": {
      "text/html": [
       "<div>\n",
       "<style scoped>\n",
       "    .dataframe tbody tr th:only-of-type {\n",
       "        vertical-align: middle;\n",
       "    }\n",
       "\n",
       "    .dataframe tbody tr th {\n",
       "        vertical-align: top;\n",
       "    }\n",
       "\n",
       "    .dataframe thead th {\n",
       "        text-align: right;\n",
       "    }\n",
       "</style>\n",
       "<table border=\"1\" class=\"dataframe\">\n",
       "  <thead>\n",
       "    <tr style=\"text-align: right;\">\n",
       "      <th></th>\n",
       "      <th>Contrast</th>\n",
       "      <th>StimSeq</th>\n",
       "      <th>ProbeOriRight</th>\n",
       "      <th>ProbeOriLeft</th>\n",
       "    </tr>\n",
       "  </thead>\n",
       "  <tbody>\n",
       "    <tr>\n",
       "      <th>0</th>\n",
       "      <td>0.048323</td>\n",
       "      <td>45</td>\n",
       "      <td>45</td>\n",
       "      <td>-45</td>\n",
       "    </tr>\n",
       "    <tr>\n",
       "      <th>1</th>\n",
       "      <td>0.051662</td>\n",
       "      <td>-45</td>\n",
       "      <td>45</td>\n",
       "      <td>-45</td>\n",
       "    </tr>\n",
       "    <tr>\n",
       "      <th>2</th>\n",
       "      <td>0.050036</td>\n",
       "      <td>-45</td>\n",
       "      <td>-45</td>\n",
       "      <td>45</td>\n",
       "    </tr>\n",
       "    <tr>\n",
       "      <th>3</th>\n",
       "      <td>0.054548</td>\n",
       "      <td>45</td>\n",
       "      <td>-45</td>\n",
       "      <td>45</td>\n",
       "    </tr>\n",
       "    <tr>\n",
       "      <th>4</th>\n",
       "      <td>0.053140</td>\n",
       "      <td>45</td>\n",
       "      <td>-45</td>\n",
       "      <td>45</td>\n",
       "    </tr>\n",
       "  </tbody>\n",
       "</table>\n",
       "</div>"
      ],
      "text/plain": [
       "   Contrast  StimSeq  ProbeOriRight  ProbeOriLeft\n",
       "0  0.048323       45             45           -45\n",
       "1  0.051662      -45             45           -45\n",
       "2  0.050036      -45            -45            45\n",
       "3  0.054548       45            -45            45\n",
       "4  0.053140       45            -45            45"
      ]
     },
     "execution_count": 2,
     "metadata": {},
     "output_type": "execute_result"
    }
   ],
   "source": [
    "# load data\n",
    "import dill\n",
    "with open('all_data.pkl', 'rb') as f:\n",
    "    all_data = dill.load(f)\n",
    "\n",
    "test_block_prev =  all_data[3][10]\n",
    "test_block  =  all_data[3][11]\n",
    "\n",
    "# Contrust Stimuli Sample\n",
    "Contrasts = []\n",
    "Contrasts.append(test_block_prev['ContrastSeq'].values[-1])\n",
    "Contrasts += list(test_block['ContrastSeq'].values[1:])\n",
    "StimSeq = list(test_block['StimSeq'].values)\n",
    "ProbeOriRight = list(test_block['ProbeOriRight'].values)\n",
    "ProbeOriLeft = list(test_block['ProbeOriLeft'].values)\n",
    "\n",
    "Block_data = pd.DataFrame({'Contrast':Contrasts, 'StimSeq':StimSeq, 'ProbeOriRight':ProbeOriRight, 'ProbeOriLeft':ProbeOriLeft})\n",
    "Block_data.head()"
   ]
  },
  {
   "cell_type": "markdown",
   "metadata": {},
   "source": [
    "Also, we extract the response section for validation."
   ]
  },
  {
   "cell_type": "code",
   "execution_count": 3,
   "metadata": {},
   "outputs": [
    {
     "data": {
      "text/html": [
       "<div>\n",
       "<style scoped>\n",
       "    .dataframe tbody tr th:only-of-type {\n",
       "        vertical-align: middle;\n",
       "    }\n",
       "\n",
       "    .dataframe tbody tr th {\n",
       "        vertical-align: top;\n",
       "    }\n",
       "\n",
       "    .dataframe thead th {\n",
       "        text-align: right;\n",
       "    }\n",
       "</style>\n",
       "<table border=\"1\" class=\"dataframe\">\n",
       "  <thead>\n",
       "    <tr style=\"text-align: right;\">\n",
       "      <th></th>\n",
       "      <th>RespOri</th>\n",
       "      <th>RespLorR</th>\n",
       "      <th>Accuracy</th>\n",
       "    </tr>\n",
       "  </thead>\n",
       "  <tbody>\n",
       "    <tr>\n",
       "      <th>0</th>\n",
       "      <td>45</td>\n",
       "      <td>1</td>\n",
       "      <td>1</td>\n",
       "    </tr>\n",
       "    <tr>\n",
       "      <th>1</th>\n",
       "      <td>45</td>\n",
       "      <td>1</td>\n",
       "      <td>0</td>\n",
       "    </tr>\n",
       "    <tr>\n",
       "      <th>2</th>\n",
       "      <td>-45</td>\n",
       "      <td>1</td>\n",
       "      <td>1</td>\n",
       "    </tr>\n",
       "    <tr>\n",
       "      <th>3</th>\n",
       "      <td>-45</td>\n",
       "      <td>1</td>\n",
       "      <td>0</td>\n",
       "    </tr>\n",
       "    <tr>\n",
       "      <th>4</th>\n",
       "      <td>45</td>\n",
       "      <td>-1</td>\n",
       "      <td>1</td>\n",
       "    </tr>\n",
       "  </tbody>\n",
       "</table>\n",
       "</div>"
      ],
      "text/plain": [
       "   RespOri  RespLorR  Accuracy\n",
       "0       45         1         1\n",
       "1       45         1         0\n",
       "2      -45         1         1\n",
       "3      -45         1         0\n",
       "4       45        -1         1"
      ]
     },
     "execution_count": 3,
     "metadata": {},
     "output_type": "execute_result"
    }
   ],
   "source": [
    "# Extract Responses\n",
    "RespOri = list(test_block['RespOri'].values)\n",
    "RespLorR = list(test_block['RespLorR'].values)\n",
    "Accuracy = list(test_block['Accuracy'].values)\n",
    "Response_test_block = pd.DataFrame({'RespOri':RespOri, 'RespLorR':RespLorR, 'Accuracy':Accuracy})\n",
    "Response_test_block.head()"
   ]
  },
  {
   "cell_type": "markdown",
   "metadata": {},
   "source": [
    "## 2. Baseline model\n",
    "In this section, the particpants should make a perceptual decision based on the stimuli.\n",
    "\n",
    "First, we assume all our stimuli are presented with the same difficulty, i.e., the accuracy of the correct judgement should always be 0.75.\n",
    "\n",
    "Then, we can see if all predicted choices are correct."
   ]
  },
  {
   "cell_type": "code",
   "execution_count": 20,
   "metadata": {},
   "outputs": [
    {
     "name": "stdout",
     "output_type": "stream",
     "text": [
      "Correlation with data:  -0.004530707379479474  +/-  0.14206594955063118\n",
      "Accuracy with data:  0.5914  +/-  0.059008812901125196\n"
     ]
    }
   ],
   "source": [
    "np.random.seed(614)\n",
    "sample_times = 100\n",
    "trialnum = len(Contrasts)\n",
    "\n",
    "Pred_Data_Corr = []\n",
    "Pred_Acc = []\n",
    "data_accuracy = test_block['Accuracy'].values\n",
    "\n",
    "# loop through trials\n",
    "for iSample in range(sample_times):\n",
    "    Response = pd.DataFrame(columns=['RespOri', 'RespLorR', 'Accuracy'], index=range(50))\n",
    "    for iTrial in range(trialnum):\n",
    "        # 0.75 probability of percepting the correct orientation\n",
    "        if np.random.rand() < 0.75:\n",
    "            Response.loc[iTrial, 'Accuracy'] = 1\n",
    "            Response.loc[iTrial, 'RespOri'] = Block_data.loc[iTrial, 'StimSeq']\n",
    "            Response.loc[iTrial, 'RespLorR'] = Block_data.loc[iTrial, 'ProbeOriRight'] / Block_data.loc[iTrial, 'StimSeq']\n",
    "        else:\n",
    "            Response.loc[iTrial, 'Accuracy'] = 0\n",
    "            Response.loc[iTrial, 'RespOri'] = Block_data.loc[iTrial, 'StimSeq'] * (-1)\n",
    "            Response.loc[iTrial, 'RespLorR'] = Block_data.loc[iTrial, 'ProbeOriLeft'] / Block_data.loc[iTrial, 'StimSeq']\n",
    "\n",
    "    # see if allignment with the data\n",
    "    pred_accuracy = Response['Accuracy'].values\n",
    "    Pred_Data_Corr.append(np.corrcoef(list(pred_accuracy), list(data_accuracy))[0, 1])\n",
    "    Pred_Acc.append(np.sum(pred_accuracy == data_accuracy) / len(pred_accuracy))\n",
    "\n",
    "print('Correlation with data: ', np.mean(Pred_Data_Corr), ' +/- ', np.std(Pred_Data_Corr))\n",
    "print('Accuracy with data: ', np.mean(Pred_Acc), ' +/- ', np.std(Pred_Acc))"
   ]
  },
  {
   "cell_type": "markdown",
   "metadata": {},
   "source": [
    "Of course, this model is awful, but it is a good start.\n",
    "\n",
    "The baseline here is too simple to be true, at least we have to infer the accuracy based on current trial's Contrast."
   ]
  },
  {
   "cell_type": "markdown",
   "metadata": {},
   "source": [
    "## 3. Probabilistic Choice Model\n",
    "Just like in the SD_ProbChoice.ipynb[SD_ProbChoice.ipynb], we can fit a logit function for the participant's probability of forming a Clockwise percept.\n",
    "\n",
    "Then, we use this as the flipcoin probability to simulate the participant's choice."
   ]
  },
  {
   "cell_type": "code",
   "execution_count": 30,
   "metadata": {},
   "outputs": [
    {
     "name": "stdout",
     "output_type": "stream",
     "text": [
      "                         Results: Logit\n",
      "=================================================================\n",
      "Model:              Logit            Pseudo R-squared: 0.224     \n",
      "Dependent Variable: Curr_resp        AIC:              1062.5759 \n",
      "Date:               2023-12-12 10:58 BIC:              1072.3894 \n",
      "No. Observations:   999              Log-Likelihood:   -529.29   \n",
      "Df Model:           1                LL-Null:          -681.89   \n",
      "Df Residuals:       997              LLR p-value:      2.4120e-68\n",
      "Converged:          1.0000           Scale:            1.0000    \n",
      "No. Iterations:     6.0000                                       \n",
      "-------------------------------------------------------------------\n",
      "             Coef.    Std.Err.      z      P>|z|    [0.025   0.975]\n",
      "-------------------------------------------------------------------\n",
      "Curr_Sen     2.1917     0.1452   15.0930   0.0000   1.9071   2.4764\n",
      "Constant     0.4045     0.0768    5.2686   0.0000   0.2540   0.5549\n",
      "=================================================================\n",
      "\n"
     ]
    },
    {
     "name": "stderr",
     "output_type": "stream",
     "text": [
      "/Users/abel/miniconda3/envs/pymc_env/lib/python3.9/site-packages/statsmodels/base/optimizer.py:17: FutureWarning: Keyword arguments have been passed to the optimizer that have no effect. The list of allowed keyword arguments for method newton is: tol. The list of unsupported keyword arguments passed include: iter. After release 0.14, this will raise.\n",
      "  warnings.warn(\n"
     ]
    }
   ],
   "source": [
    "def normalize(data):\n",
    "    return (data - np.min(data)) / (np.max(data) - np.min(data))\n",
    "\n",
    "def logit_fit(subject_data, rep_times = 10):\n",
    "    for iB in range(len(subject_data)):\n",
    "        block_data = subject_data[iB].copy()\n",
    "        block_data['ContrastSeq'] = normalize(block_data['ContrastSeq'])\n",
    "        Curr_resp = block_data['RespOri'] / 45\n",
    "        next_block_first = block_data['ContrastSeq'].values[-1]\n",
    "        Curr_Sen = block_data['ContrastSeq'].shift(1) * (block_data['StimSeq'] / 45)\n",
    "        test_regression = pd.DataFrame({'Curr_Sen': Curr_Sen, 'Curr_resp': Curr_resp, 'Constant': 1})\n",
    "        if iB != 0:\n",
    "            test_regression.iloc[0, 0] = next_block_first * (block_data['StimSeq'].values[0] / 45)\n",
    "            \n",
    "        test_regression['Curr_resp'].replace(-1, 0, inplace=True)\n",
    "        test_regression = test_regression.dropna()\n",
    "        if iB == 0:\n",
    "            temp_data = test_regression\n",
    "        else:\n",
    "            temp_data = pd.concat([temp_data, test_regression], ignore_index=True)\n",
    "\n",
    "    # Logistic regression\n",
    "    import statsmodels.api as sm\n",
    "    temp_logit = sm.Logit(temp_data['Curr_resp'], temp_data[['Curr_Sen', 'Constant']])\n",
    "    temp_result = temp_logit.fit(disp = False, iter = 100)\n",
    "    logit_params = temp_result.params\n",
    "    print(temp_result.summary2())\n",
    "    return logit_params\n",
    "\n",
    "# fit the model\n",
    "logit_params = logit_fit(all_data[3])\n",
    "\n",
    "def prob_cw(x, logit_params):\n",
    "    return special.expit(logit_params[0] * x + logit_params[1])\n"
   ]
  },
  {
   "cell_type": "code",
   "execution_count": 36,
   "metadata": {},
   "outputs": [
    {
     "name": "stdout",
     "output_type": "stream",
     "text": [
      "Correlation with data:  0.12035370712791217  +/-  0.11002920635830442\n",
      "Congruence with data:  0.554  +/-  0.056178287620752554\n"
     ]
    }
   ],
   "source": [
    "np.random.seed(614)\n",
    "\n",
    "sample_times = 50\n",
    "\n",
    "Pred_Data_Corr = []\n",
    "Pred_Acc = []\n",
    "test_block['ContrastSeq'] = normalize(test_block['ContrastSeq'])\n",
    "\n",
    "# loop through trials\n",
    "for iSample in range(sample_times):\n",
    "    Response = pd.DataFrame(columns=['RespOri', 'RespLorR', 'Accuracy'], index=range(50))\n",
    "    for iTrial in range(trialnum):\n",
    "        \n",
    "        # probability of percepting the clockwise, derived from the logistic regression\n",
    "        if np.random.rand() < prob_cw(test_block.loc[iTrial, 'ContrastSeq'], logit_params):\n",
    "            Response.loc[iTrial, 'RespOri'] = 45\n",
    "        else:\n",
    "            Response.loc[iTrial, 'RespOri'] = -45\n",
    "    \n",
    "    Response['RespLorR'] = Response['RespOri'] / test_block['ProbeOriRight']\n",
    "    Response['Accuracy'] = (Response['RespOri'] == test_block['StimSeq'])\n",
    "    Response['Accuracy'].replace(False, 0, inplace=True)\n",
    "    Response['Accuracy'].replace(True, 1, inplace=True)\n",
    "    \n",
    "    #see if allignment with the data\n",
    "    pred_accuracy = Response['Accuracy'].values\n",
    "    data_accuracy = test_block['Accuracy'].values\n",
    "    Pred_Data_Corr.append(np.corrcoef(pred_accuracy, data_accuracy)[0, 1])\n",
    "    Pred_Acc.append(np.sum(pred_accuracy == data_accuracy) / len(pred_accuracy))\n",
    "\n",
    "print('Correlation with data: ', np.mean(Pred_Data_Corr), ' +/- ', np.std(Pred_Data_Corr))\n",
    "print('Congruence with data: ', np.mean(Pred_Acc), ' +/- ', np.std(Pred_Acc))"
   ]
  },
  {
   "cell_type": "markdown",
   "metadata": {},
   "source": [
    "## 4. PCM with Weibull Function"
   ]
  },
  {
   "cell_type": "code",
   "execution_count": 63,
   "metadata": {},
   "outputs": [],
   "source": [
    "def normalize(data):\n",
    "    return (data - np.min(data)) / (np.max(data) - np.min(data))\n",
    "\n",
    "def Weibull(I, a, b, pg, pl):\n",
    "    \"\"\"\n",
    "    Compute the value of the psychometric curve based on the fomula given parameters and stimulus intensity.\n",
    "    \n",
    "    Inputs:\n",
    "        I (float): Stimulus intensity.\n",
    "        a (float): Bias parameter.\n",
    "        b (float): Slope parameter.\n",
    "        pg (float): Guess rate.\n",
    "        pl (float): Lapse rate.\n",
    "        \n",
    "    Returns:\n",
    "        float: The probability of detecting the stimulus (c_t=1) given the stimulus intensity I.\n",
    "    \"\"\"\n",
    "    return pg + (1 - pg - pl) / (1 + np.exp(b * (a - I)))\n",
    "\n",
    "def nlog_likelihood(params, I, c):\n",
    "    \"\"\"\n",
    "    Compute the log likelihood of the data given the model parameters.\n",
    "    \n",
    "    Inputs:\n",
    "        params (list): The model parameters.\n",
    "        I (numpy.ndarray): The stimulus intensity.\n",
    "        c (numpy.ndarray): The response.\n",
    "        \n",
    "    Returns:\n",
    "        float: The log likelihood.\n",
    "    \"\"\"\n",
    "    a, b, pg, pl = params\n",
    "    Prob = Weibull(I, a, b, pg, pl)\n",
    "    Prob = np.clip(Prob, 0.01, 0.99) # clip the probability to avoid numerical error\n",
    "    log_likelihood = np.sum(c * np.log(Prob) + (1 - c) * np.log(1 - Prob)) # log likelihood of the data given the model parameters\n",
    "    return -log_likelihood\n",
    "\n",
    "def weibull_fit(subject_data, rep_times = 10):\n",
    "    for iB in range(len(subject_data)):\n",
    "        block_data = subject_data[iB].copy()\n",
    "        block_data['ContrastSeq'] = normalize(block_data['ContrastSeq'])\n",
    "        Curr_resp = block_data['RespOri'] / 45\n",
    "        next_block_first = block_data['ContrastSeq'].values[-1]\n",
    "        Curr_Sen = block_data['ContrastSeq'].shift(1) * (block_data['StimSeq'] / 45)\n",
    "        test_regression = pd.DataFrame({'Curr_Sen': Curr_Sen, 'Curr_resp': Curr_resp, 'Constant': 1})\n",
    "        if iB != 0:\n",
    "            test_regression.iloc[0, 0] = next_block_first * (block_data['StimSeq'].values[0] / 45)\n",
    "            \n",
    "        test_regression['Curr_resp'].replace(-1, 0, inplace=True)\n",
    "        test_regression = test_regression.dropna()\n",
    "        if iB == 0:\n",
    "            temp_data = test_regression\n",
    "        else:\n",
    "            temp_data = pd.concat([temp_data, test_regression], ignore_index=True)\n",
    "    \n",
    "    # Weibull regression\n",
    "    fitted_params = []\n",
    "    args=(temp_data['Curr_Sen'], temp_data['Curr_resp'])\n",
    "    LB = [1e-4, 1e-4, 1e-4, 1e-4];\n",
    "    UB = [1, 1e2, 1, 1];\n",
    "\n",
    "    for iRep in range(rep_times):\n",
    "        [a0] = np.random.uniform(1e-4, 1, 1)\n",
    "        [b0] = np.random.uniform(1e-4, 1e2, 1)\n",
    "        [pg0, pl0] = np.random.uniform(1e-4, 1, 2)\n",
    "        x0 = [a0, b0, pg0, pl0];\n",
    "        xopt = constrNMPy.constrNM(nlog_likelihood, x0, LB, UB, args=args, full_output=True)\n",
    "        fitted_params.append(xopt['xopt'])\n",
    "\n",
    "    model_params_est = np.mean(fitted_params, axis=0)\n",
    "    return model_params_est"
   ]
  },
  {
   "cell_type": "code",
   "execution_count": 69,
   "metadata": {},
   "outputs": [
    {
     "name": "stdout",
     "output_type": "stream",
     "text": [
      "Correlation with data:  0.13437559926268003  +/-  0.11772392453175826\n",
      "Congruence with data:  0.556  +/-  0.0565685424949238\n"
     ]
    }
   ],
   "source": [
    "np.random.seed(614)\n",
    "\n",
    "sample_times = 50\n",
    "\n",
    "Pred_Data_Corr = []\n",
    "Pred_Acc = []\n",
    "test_block['ContrastSeq'] = normalize(test_block['ContrastSeq'])\n",
    "params = weibull_fit(all_data[3])\n",
    "\n",
    "# loop through trials\n",
    "for iSample in range(sample_times):\n",
    "    Response = pd.DataFrame(columns=['RespOri', 'RespLorR', 'Accuracy'], index=range(50))\n",
    "    for iTrial in range(trialnum):\n",
    "        \n",
    "        # probability of percepting the clockwise, derived from the logistic regression\n",
    "        if np.random.rand() < Weibull(test_block.loc[iTrial, 'ContrastSeq'], params[0], params[1], params[2], params[3]):\n",
    "            Response.loc[iTrial, 'RespOri'] = 45\n",
    "        else:\n",
    "            Response.loc[iTrial, 'RespOri'] = -45\n",
    "    \n",
    "    Response['RespLorR'] = Response['RespOri'] / test_block['ProbeOriRight']\n",
    "    Response['Accuracy'] = (Response['RespOri'] == test_block['StimSeq'])\n",
    "    Response['Accuracy'].replace(False, 0, inplace=True)\n",
    "    Response['Accuracy'].replace(True, 1, inplace=True)\n",
    "    \n",
    "    #see if allignment with the data\n",
    "    pred_accuracy = Response['Accuracy'].values\n",
    "    data_accuracy = test_block['Accuracy'].values\n",
    "    Pred_Data_Corr.append(np.corrcoef(pred_accuracy, data_accuracy)[0, 1])\n",
    "    Pred_Acc.append(np.sum(pred_accuracy == data_accuracy) / len(pred_accuracy))\n",
    "\n",
    "print('Correlation with data: ', np.mean(Pred_Data_Corr), ' +/- ', np.std(Pred_Data_Corr))\n",
    "print('Congruence with data: ', np.mean(Pred_Acc), ' +/- ', np.std(Pred_Acc))"
   ]
  },
  {
   "cell_type": "markdown",
   "metadata": {},
   "source": [
    "Apparantly, solely dependending on the **Current Sensory Evidence** is not enough to simulate the reported perceptual choices of the participant.\n",
    "\n",
    "Moreover, we can see the congruence with original data is actually dropping in this simulation.\n",
    "\n",
    "**Why?**\n",
    "\n",
    "Since we have controlled the task difficulty at around the same level, we should believe that the likelihood is not affected much by the sensory evidence."
   ]
  },
  {
   "cell_type": "markdown",
   "metadata": {},
   "source": [
    "## Additionally, we see how is the contrast correlate with accuraies:"
   ]
  },
  {
   "cell_type": "code",
   "execution_count": 79,
   "metadata": {},
   "outputs": [
    {
     "data": {
      "text/plain": [
       "[<matplotlib.lines.Line2D at 0x15cd2c0d0>]"
      ]
     },
     "execution_count": 79,
     "metadata": {},
     "output_type": "execute_result"
    },
    {
     "data": {
      "image/png": "[encoded data removed]",
      "text/plain": [
       "<Figure size 800x600 with 1 Axes>"
      ]
     },
     "metadata": {
      "image/png": {
       "height": 611,
       "width": 811
      }
     },
     "output_type": "display_data"
    }
   ],
   "source": [
    "subject_data = all_data[3]\n",
    "\n",
    "for iB in range(len(subject_data)):\n",
    "    block_data = subject_data[iB].copy()\n",
    "    block_data['ContrastSeq'] = normalize(block_data['ContrastSeq'])\n",
    "    Curr_resp = block_data['RespOri'] / 45\n",
    "    next_block_first = block_data['ContrastSeq'].values[-1]\n",
    "    Curr_Sen = block_data['ContrastSeq'].shift(1) * (block_data['StimSeq'] / 45)\n",
    "    Accuracy = block_data['Accuracy']\n",
    "    test_regression = pd.DataFrame({'Curr_Sen': Curr_Sen, 'Curr_resp': Curr_resp, 'Accuracy': Accuracy, 'Constant': 1})\n",
    "    if iB != 0:\n",
    "        test_regression.iloc[0, 0] = next_block_first * (block_data['StimSeq'].values[0] / 45)\n",
    "        \n",
    "    test_regression['Curr_resp'].replace(-1, 0, inplace=True)\n",
    "    test_regression = test_regression.dropna()\n",
    "    if iB == 0:\n",
    "        temp_data = test_regression\n",
    "    else:\n",
    "        temp_data = pd.concat([temp_data, test_regression], ignore_index=True)\n",
    "\n",
    "# plot the accuracy distribution for different stimulus intensity\n",
    "fig = plt.figure(figsize=(8, 6))\n",
    "ax = fig.add_subplot(111)\n",
    "bins = np.linspace(0, 1, 11)\n",
    "# calculate the mean accuracy for each stimulus intensity bin\n",
    "temp_data['Curr_Sen'] = np.abs(temp_data['Curr_Sen'])\n",
    "mean_acc = []\n",
    "for iBin in range(len(bins) - 1):\n",
    "    mean_acc.append(np.mean(temp_data[(temp_data['Curr_Sen'] >= bins[iBin]) & (temp_data['Curr_Sen'] < bins[iBin + 1])]['Accuracy']))\n",
    "\n",
    "ax.plot(bins[:-1], mean_acc, 'o-', color='k', linewidth=2, markersize=8)\n"
   ]
  },
  {
   "cell_type": "markdown",
   "metadata": {},
   "source": [
    "This trend is not accurately depicted from a Logistic function or a Weibull function.\n",
    "\n",
    "Since the majority of the contrast level are set to be at 75% accuracy, the model will not be able to capture the trend.\n",
    "\n",
    "Actually, if we can manage to illustrate a model that can ignore the effect of sensory evidence, we can surely demonstrate how serial dependence is affecting the participant's perceptual decision."
   ]
  },
  {
   "cell_type": "markdown",
   "metadata": {},
   "source": [
    "## 5 Adding History Effect\n",
    "\n",
    "由于我们控制了刺激的对比度始终在阈值周围，保证难度相对恒定，所以我们假定对于两种不同的刺激的知觉 likelihood 始终都是 p = 0.75 的 Bernoulli 分布，而刺激历史构成 prior 影响后续的反应。"
   ]
  },
  {
   "cell_type": "code",
   "execution_count": null,
   "metadata": {},
   "outputs": [],
   "source": []
  }
 ],
 "metadata": {
  "kernelspec": {
   "display_name": "pymc_env",
   "language": "python",
   "name": "python3"
  },
  "language_info": {
   "codemirror_mode": {
    "name": "ipython",
    "version": 3
   },
   "file_extension": ".py",
   "mimetype": "text/x-python",
   "name": "python",
   "nbconvert_exporter": "python",
   "pygments_lexer": "ipython3",
   "version": "3.9.16"
  }
 },
 "nbformat": 4,
 "nbformat_minor": 2
}
